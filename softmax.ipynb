{
 "cells": [
  {
   "cell_type": "markdown",
   "id": "c96c1290-5d85-4091-9b8c-d62a327b8e9e",
   "metadata": {},
   "source": [
    "# Softmax Classifier"
   ]
  },
  {
   "cell_type": "markdown",
   "id": "bd8c67aa-88ec-47aa-8e4c-d5e774573d79",
   "metadata": {},
   "source": [
    "**This material is heavily based on the popular Standford CS231n lecture material.** [Please check on their website for more detailed information](https://cs231n.github.io/)."
   ]
  },
  {
   "cell_type": "code",
   "execution_count": 1,
   "id": "e26eb164-b0be-4131-bc19-a9133d8108f3",
   "metadata": {},
   "outputs": [],
   "source": [
    "import numpy as np\n",
    "import matplotlib.pyplot as plt\n",
    "\n",
    "plt.rcParams.update({\n",
    "    \"text.usetex\": False,\n",
    "    \"font.family\": \"sans-serif\",\n",
    "    \"font.size\": 10,\n",
    "})\n",
    "\n",
    "from utils import *\n",
    "\n",
    "np.set_printoptions(precision=3, suppress=True)"
   ]
  },
  {
   "cell_type": "markdown",
   "id": "4a221dbf",
   "metadata": {},
   "source": [
    "## Class Softmax\n",
    "\n",
    "This is the implementation of the linear Softmax classifier:\n",
    "* The Python class has two metods: `train(X, Y)` and `Y = predict(X)`.\n",
    "* Matrix `self.W` is the weight matrix and also includes the bias vector ([bias tricks](https://cs231n.github.io/linear-classify/#interpreting-a-linear-classifier)).\n",
    "* Training is done by using stochastic gradient descent method."
   ]
  },
  {
   "cell_type": "markdown",
   "id": "830ce9e5",
   "metadata": {},
   "source": [
    "Let us define the score function as linear combination of all feature values.\n",
    "\n",
    "$ F = X W$\n",
    "\n",
    "$ \\text{softmax}(i) = e^{F_{Y_{i}}} \\Big/ \\sum_{j=1}^C e^{F_{i}} $\n",
    "\n",
    "$ L_{i}=-\\log \\left( \\text{softmax}(i) \\right) $\n",
    "\n",
    "$ L=\\underbrace{\\frac{1}{N} \\sum_{i=1}^N L_{i}}_{\\text {data loss }}+\\underbrace{\\lambda R(W)}_{\\text {regularization loss }} $\n",
    "\n",
    "$ R(W) = \\sum_{k=1}^C \\sum_{l=1}^{D+1} W_{l, k}^{2} $\n",
    "\n",
    "where:\n",
    "- the dataset contains $N$ samples of data\n",
    "- each sample has $D$ features (dimensionalities) and $C$ labels/classes (distinct categories)\n",
    "- $X \\in \\mathbb{R}^{N \\times (D+1)}$ contains the features from N samples of data\n",
    "- $X_i \\in \\mathbb{R}^{D+1}$ contains the features of the $i$-th sample ($i$-th row of $X$)\n",
    "- $Y \\in \\mathbb{R}^{N}$ contains the labels from N samples of data\n",
    "- $Y_i \\in \\mathbb{R}$ contains the label of the $i$-th sample ($i$-th row of $Y$)\n",
    "- $F_i \\in \\mathbb{R}^{C}$ is the scores for all classes of $i$-th sample\n",
    "- $F_{y_i} \\in \\mathbb{R}$ is the score for the correct class of $i$-th sample\n",
    "- $L \\in \\mathbb{R}$ is the total loss\n",
    "- $L_i \\in \\mathbb{R}$ is the loss of $i$-th sample\n",
    "- $W \\in \\mathbb{R}^{(D+1) \\times C}$ is the weight matrix (with augmented bias vector in the last row)\n",
    "- $R \\in \\mathbb{R}$ is the regularization loss"
   ]
  },
  {
   "cell_type": "code",
   "execution_count": 2,
   "id": "b0b485a5-d495-48ed-ab6f-fcbd5bbe8d8f",
   "metadata": {},
   "outputs": [],
   "source": [
    "from numba import njit, prange\n",
    "\n",
    "class Softmax():\n",
    "    @staticmethod\n",
    "    @njit(parallel=True, fastmath=True)\n",
    "    def softmax_loss(W, X, Y, reg):\n",
    "        \"\"\"\n",
    "        Inputs have dimension D, there are C classes, and we operate on minibatches\n",
    "        of N examples.\n",
    "\n",
    "        Inputs:\n",
    "        - W: A numpy array of shape (D+1, C) containing weights.\n",
    "        - X: A numpy array of shape (N, D) containing a minibatch of data.\n",
    "        - Y: A numpy array of shape (N,) containing training labels; Y[i] = c means\n",
    "          that X[i] has label c, where 0 <= c < C.\n",
    "        - reg: (float) regularization strength\n",
    "\n",
    "        Returns a tuple of:\n",
    "        - loss: loss as single float\n",
    "        - dW: gradient with respect to weights W; an array of same shape as W\n",
    "\n",
    "        References:\n",
    "        - https://github.com/lightaime/cs231n\n",
    "        - https://github.com/mantasu/cs231n\n",
    "        - https://github.com/jariasf/CS231n\n",
    "        \n",
    "        \"\"\"\n",
    "        # Initialize the loss and gradient to zero.\n",
    "        loss = 0.0\n",
    "        dW   = np.zeros_like(W)\n",
    "        \n",
    "        N = X.shape[0] # samples \n",
    "        C = W.shape[1] # classes\n",
    "        X = np.hstack((X, np.ones((N, 1)))) # the last column is 1: to allow augmentation of bias vector into W\n",
    "\n",
    "        F = X@W \n",
    "\n",
    "        # Softmax Loss\n",
    "        for i in prange(N):\n",
    "            Fi = F[i] - np.max(F[i])\n",
    "            expFi = np.exp(Fi)\n",
    "            softmax = expFi/np.sum(expFi) \n",
    "            loss += -np.log(softmax[Y[i]])\n",
    "\n",
    "            # Weight Gradients\n",
    "            for j in prange(C):\n",
    "                dW[:, j] += X[i] * softmax[j]\n",
    "            dW[:, Y[i]] -= X[i]\n",
    "\n",
    "        # Average\n",
    "        loss /= N\n",
    "        dW /= N\n",
    "\n",
    "        # Regularization\n",
    "        loss += reg * np.sum(W * W)\n",
    "        dW += reg * 2 * W \n",
    "\n",
    "        return loss, dW\n",
    " \n",
    "\n",
    "    def train(self, X, Y, learning_rate=1e-3, reg=1e-5, num_iters=100, batch_size=200, verbose=True):\n",
    "        '''\n",
    "        Train this linear classifier using stochastic gradient descent.\n",
    "\n",
    "        Inputs:\n",
    "        - X: A numpy array of shape (N, D) containing training data; there are N\n",
    "          training samples each of dimension D.\n",
    "        - Y: A numpy array of shape (N,) containing training labels; y[i] = c\n",
    "          means that X[i] has label 0 <= c < C for C classes.\n",
    "        - learning_rate: (float) learning rate for optimization.\n",
    "        - reg: (float) regularization strength.\n",
    "        - num_iters: (integer) number of steps to take when optimizing\n",
    "        - batch_size: (integer) number of training examples to use at each step.\n",
    "        - verbose: (boolean) If true, print progress during optimization.\n",
    "\n",
    "        Outputs:\n",
    "        A list containing the value of the loss function at each training iteration.\n",
    "        '''\n",
    "          \n",
    "        N, D = X.shape\n",
    "        C = len(np.unique(Y)) \n",
    "        \n",
    "        # lazily initialize W\n",
    "        self.W = 0.001 * np.random.randn(D+1, C) # dim+1, to bias vector is augmented into W \n",
    "\n",
    "        # Run stochastic gradient descent to optimize W\n",
    "        loss_history = []\n",
    "        for it in range(num_iters):\n",
    "            X_batch = None\n",
    "            y_batch = None\n",
    "\n",
    "            # Sample batch_size elements from the training data and their           \n",
    "            # corresponding labels to use in this round of gradient descent.        \n",
    "            # Store the data in X_batch and their corresponding labels in           \n",
    "            # y_batch; after sampling X_batch should have shape (dim, batch_size)   \n",
    "            # and y_batch should have shape (batch_size,)                           \n",
    "            \n",
    "            batch_indices = np.random.choice(N, batch_size, replace=False)\n",
    "            X_batch = X[batch_indices]\n",
    "            y_batch = Y[batch_indices]\n",
    "            \n",
    "            # evaluate loss and gradient\n",
    "            loss, grad = self.softmax_loss(self.W, X_batch, y_batch, reg)\n",
    "            loss_history.append(loss)\n",
    "\n",
    "            # Update the weights using the gradient and the learning rate.          \n",
    "            self.W = self.W - learning_rate * grad\n",
    "     \n",
    "            if verbose and it % 5000 == 0:\n",
    "                print('iteration', it, 'of', num_iters, 'loss', loss, flush=True)\n",
    "\n",
    "        return loss_history\n",
    "    \n",
    "\n",
    "    def predict(self, X):\n",
    "        \"\"\"\n",
    "        Use the trained weights of this linear classifier to predict labels for\n",
    "        data points.\n",
    "\n",
    "        Inputs:\n",
    "        - X: A numpy array of shape (N, D) containing training data; there are N\n",
    "          training samples each of dimension D.\n",
    "\n",
    "        Returns:\n",
    "        - Y_pred: Predicted labels for the data in X. y_pred is a 1-dimensional\n",
    "          array of length N, and each element is an integer giving the predicted\n",
    "          class.\n",
    "        \"\"\"\n",
    "        \n",
    "        X  = np.hstack((X, np.ones((X.shape[0],1))))\n",
    "\n",
    "        Y_pred = np.zeros(X.shape[0])\n",
    "        scores = X.dot(self.W)\n",
    "        Y_pred = scores.argmax(axis=1)\n",
    "\n",
    "        return Y_pred"
   ]
  },
  {
   "cell_type": "markdown",
   "id": "1de966bf",
   "metadata": {},
   "source": [
    "## Breast Cancer Wisconsin\n",
    "\n",
    "This dataset is publicly available and can be downloaded from [this link](https://archive.ics.uci.edu/dataset/17/breast+cancer+wisconsin+diagnostic).\n",
    "\n",
    "[This dataset is also available as one of scikit-learn example datasets](https://scikit-learn.org/1.5/modules/generated/sklearn.datasets.load_breast_cancer.html#sklearn.datasets.load_breast_cancer\n",
    ")."
   ]
  },
  {
   "cell_type": "markdown",
   "id": "fbb01b45",
   "metadata": {},
   "source": [
    "The original labels are characters: `M` and `B`. For the SVM to work, the labels must be numbers. Hence, we change the labels:\n",
    "* `M` is replaced with `1`\n",
    "* `B` is replaced with `0`"
   ]
  },
  {
   "cell_type": "markdown",
   "id": "46c6c3f5-7e2a-4536-82fc-f2025023cc06",
   "metadata": {},
   "source": [
    "### Load the Dataset"
   ]
  },
  {
   "cell_type": "code",
   "execution_count": 3,
   "id": "0d51e722",
   "metadata": {},
   "outputs": [
    {
     "name": "stdout",
     "output_type": "stream",
     "text": [
      "Dimension numbers : 10\n",
      "Number of data    : 569\n",
      "Labels            : [0 1]\n"
     ]
    }
   ],
   "source": [
    "data = np.loadtxt(\"./datasets/breast_cancer/wdbc.data\", delimiter=\",\", dtype=str)\n",
    "X = np.float32(data[:, 2:12])  # 10 dimensions\n",
    "\n",
    "# Diagnosis (M = malignant, B = benign)\n",
    "Y = np.zeros(X.shape[0], dtype=np.int32) \n",
    "Y[np.where(data[:,1]=='M')] = 1\n",
    "Y[np.where(data[:,1]=='B')] = 0\n",
    "\n",
    "print(\"Dimension numbers :\", X.shape[1])\n",
    "print(\"Number of data    :\", X.shape[0])\n",
    "print(\"Labels            :\", np.unique(Y))"
   ]
  },
  {
   "cell_type": "code",
   "execution_count": 4,
   "id": "6f13e037",
   "metadata": {},
   "outputs": [
    {
     "name": "stdout",
     "output_type": "stream",
     "text": [
      "Dimension numbers : 13\n",
      "Number of data    : 270\n",
      "Labels            : [0 1]\n"
     ]
    }
   ],
   "source": [
    "data1 = np.genfromtxt(\"./datasets/heart/Heart_Disease_Prediction.csv\", delimiter=\",\", dtype=str, skip_header=1)\n",
    "X1 = np.float32(data1[:, 0:13])  # 13 dimensions\n",
    "\n",
    "Y1 = np.zeros(X1.shape[0], dtype=np.int32) \n",
    "Y1[np.where(data1[:,13]=='Presence')] = 1\n",
    "Y1[np.where(data1[:,13]=='Absence')] = 0\n",
    "\n",
    "print(\"Dimension numbers :\", X1.shape[1])\n",
    "print(\"Number of data    :\", X1.shape[0])\n",
    "print(\"Labels            :\", np.unique(Y1))"
   ]
  },
  {
   "cell_type": "markdown",
   "id": "feba5526-e5d3-4803-8ed6-de2cc0b6e49a",
   "metadata": {},
   "source": [
    "### Split The Dataset for Training and Test"
   ]
  },
  {
   "cell_type": "code",
   "execution_count": 5,
   "id": "7ca1bf45",
   "metadata": {},
   "outputs": [],
   "source": [
    "X_train = X[0:400, :]\n",
    "Y_train = Y[0:400]\n",
    "X_test  = X[401:, :]\n",
    "y_test  = Y[401:]\n",
    "\n",
    "num_test = X_test.shape[0]"
   ]
  },
  {
   "cell_type": "code",
   "execution_count": 6,
   "id": "e0b243e9",
   "metadata": {},
   "outputs": [],
   "source": [
    "X_train1 = X1[0:189, :]\n",
    "y_train1 = Y1[0:189]\n",
    "X_test1  = X1[190:, :]\n",
    "Y_test1  = Y1[190:]\n",
    "\n",
    "num_test1 = X_test1.shape[0]"
   ]
  },
  {
   "cell_type": "markdown",
   "id": "3dda0429-009b-4d5f-a52f-5487d91c7d22",
   "metadata": {},
   "source": [
    "### Train the Classifier"
   ]
  },
  {
   "cell_type": "code",
   "execution_count": 7,
   "id": "e0389410",
   "metadata": {},
   "outputs": [
    {
     "name": "stdout",
     "output_type": "stream",
     "text": [
      "iteration 0 of 50000 loss 0.6778638851042799\n",
      "iteration 5000 of 50000 loss 0.4600471748588717\n",
      "iteration 10000 of 50000 loss 0.4065653175151859\n",
      "iteration 15000 of 50000 loss 0.3876795514687914\n",
      "iteration 20000 of 50000 loss 0.4043398124455549\n",
      "iteration 25000 of 50000 loss 0.42175826689727935\n",
      "iteration 30000 of 50000 loss 0.36845693887074416\n",
      "iteration 35000 of 50000 loss 0.3863912853624632\n",
      "iteration 40000 of 50000 loss 0.3512577054063387\n",
      "iteration 45000 of 50000 loss 0.3797931177184937\n"
     ]
    }
   ],
   "source": [
    "classifier = Softmax()\n",
    "loss_hist = classifier.train(X_train, Y_train, learning_rate=1e-6,batch_size=200, reg=0.1, num_iters=50000)"
   ]
  },
  {
   "cell_type": "code",
   "execution_count": 8,
   "id": "802ff96a",
   "metadata": {},
   "outputs": [
    {
     "name": "stdout",
     "output_type": "stream",
     "text": [
      "iteration 0 of 10000 loss 0.7431269215567233\n",
      "iteration 5000 of 10000 loss 0.6335932521871694\n"
     ]
    }
   ],
   "source": [
    "classifier1 = Softmax()\n",
    "loss_hist1 = classifier1.train(X_train1, y_train1, learning_rate=1e-6,batch_size=100, reg=0.1, num_iters=10000)"
   ]
  },
  {
   "cell_type": "markdown",
   "id": "4347aaee-fa12-4fc8-bdaa-dcb19f8469f9",
   "metadata": {},
   "source": [
    "### Plot the Loss\n",
    "\n",
    "Plot the loss as a function of iteration number."
   ]
  },
  {
   "cell_type": "code",
   "execution_count": 9,
   "id": "9446e7be",
   "metadata": {},
   "outputs": [
    {
     "data": {
      "image/png": "[encoded data removed]",
      "text/plain": [
       "<Figure size 640x480 with 1 Axes>"
      ]
     },
     "metadata": {},
     "output_type": "display_data"
    }
   ],
   "source": [
    "plt.plot(loss_hist)\n",
    "plt.xlabel('Iteration number')\n",
    "plt.ylabel('Loss value')\n",
    "plt.show()"
   ]
  },
  {
   "cell_type": "code",
   "execution_count": 10,
   "id": "9a618880",
   "metadata": {},
   "outputs": [
    {
     "data": {
      "image/png": "[encoded data removed]",
      "text/plain": [
       "<Figure size 640x480 with 1 Axes>"
      ]
     },
     "metadata": {},
     "output_type": "display_data"
    }
   ],
   "source": [
    "plt.plot(loss_hist1)\n",
    "plt.xlabel('Iteration number')\n",
    "plt.ylabel('Loss value')\n",
    "plt.show()"
   ]
  },
  {
   "cell_type": "markdown",
   "id": "8574c0eb-8d3e-4adb-ad31-3d13c3708272",
   "metadata": {},
   "source": [
    "### Test the Classifier\n",
    "Evaluate the performance on both the training and validation set."
   ]
  },
  {
   "cell_type": "code",
   "execution_count": 11,
   "id": "0c70c23d",
   "metadata": {},
   "outputs": [
    {
     "name": "stdout",
     "output_type": "stream",
     "text": [
      "training accuracy: 0.852500\n",
      "validation accuracy: 0.875000\n"
     ]
    }
   ],
   "source": [
    "Y_train_pred = classifier.predict(X_train)\n",
    "print('training accuracy: %f' % (np.mean(Y_train == Y_train_pred), ))\n",
    "Y_test_pred = classifier.predict(X_test)\n",
    "print('validation accuracy: %f' % (np.mean(y_test == Y_test_pred), ))"
   ]
  },
  {
   "cell_type": "code",
   "execution_count": 12,
   "id": "d27df0c6",
   "metadata": {},
   "outputs": [
    {
     "name": "stdout",
     "output_type": "stream",
     "text": [
      "training accuracy: 0.677249\n",
      "validation accuracy: 0.750000\n"
     ]
    }
   ],
   "source": [
    "Y_train_pred1 = classifier1.predict(X_train1)\n",
    "print('training accuracy: %f' % (np.mean(y_train1 == Y_train_pred1), ))\n",
    "Y_test_pred1 = classifier1.predict(X_test1)\n",
    "print('validation accuracy: %f' % (np.mean(Y_test1 == Y_test_pred1), ))"
   ]
  },
  {
   "cell_type": "markdown",
   "id": "c673a0fc",
   "metadata": {},
   "source": [
    "## Handwritten Digits"
   ]
  },
  {
   "cell_type": "markdown",
   "id": "3fe3f365",
   "metadata": {},
   "source": [
    "This dataset is publicly available and can be downloaded from [this link](https://archive.ics.uci.edu/dataset/80/optical+recognition+of+handwritten+digits)."
   ]
  },
  {
   "cell_type": "markdown",
   "id": "50425d04",
   "metadata": {},
   "source": [
    "### Training Data"
   ]
  },
  {
   "cell_type": "code",
   "execution_count": 14,
   "id": "86a19e2b",
   "metadata": {},
   "outputs": [
    {
     "name": "stdout",
     "output_type": "stream",
     "text": [
      "Dimension numbers : 64\n",
      "Number of data    : 3823\n",
      "Labels            : [0 1 2 3 4 5 6 7 8 9]\n"
     ]
    }
   ],
   "source": [
    "data = np.loadtxt(\"./datasets/handwritten_digits/optdigits.tra\", delimiter=\",\", dtype=int)\n",
    "X_train = np.int32(data[:, 0:-1])  \n",
    "Y_train = np.int32(data[:, -1]) \n",
    "\n",
    "print(\"Dimension numbers :\", X_train.shape[1])\n",
    "print(\"Number of data    :\", X_train.shape[0])\n",
    "print(\"Labels            :\", np.unique(Y_train))"
   ]
  },
  {
   "cell_type": "markdown",
   "id": "26719ea8",
   "metadata": {},
   "source": [
    "### Test Data"
   ]
  },
  {
   "cell_type": "code",
   "execution_count": 15,
   "id": "3f7f828f",
   "metadata": {},
   "outputs": [
    {
     "name": "stdout",
     "output_type": "stream",
     "text": [
      "Dimension numbers : 64\n",
      "Number of data    : 1797\n",
      "Labels            : [0 1 2 3 4 5 6 7 8 9]\n"
     ]
    }
   ],
   "source": [
    "data = np.loadtxt(\"./datasets/handwritten_digits/optdigits.tes\", delimiter=\",\", dtype=int)\n",
    "X_test = np.int32(data[:, 0:-1])  \n",
    "Y_test = np.int32(data[:, -1]) \n",
    "\n",
    "print(\"Dimension numbers :\", X_test.shape[1])\n",
    "print(\"Number of data    :\", X_test.shape[0])\n",
    "print(\"Labels            :\", np.unique(Y_test))"
   ]
  },
  {
   "cell_type": "markdown",
   "id": "228b23e6",
   "metadata": {},
   "source": [
    "### Train the Classifier"
   ]
  },
  {
   "cell_type": "code",
   "execution_count": 16,
   "id": "94863d8a",
   "metadata": {},
   "outputs": [
    {
     "name": "stdout",
     "output_type": "stream",
     "text": [
      "iteration 0 of 50000 loss 2.3113339690427086\n",
      "iteration 5000 of 50000 loss 0.24013016807748774\n",
      "iteration 10000 of 50000 loss 0.17219982527152627\n",
      "iteration 15000 of 50000 loss 0.1673990217521423\n",
      "iteration 20000 of 50000 loss 0.11902285506459935\n",
      "iteration 25000 of 50000 loss 0.11417391990645162\n",
      "iteration 30000 of 50000 loss 0.11249768758326993\n",
      "iteration 35000 of 50000 loss 0.1499958547689556\n",
      "iteration 40000 of 50000 loss 0.1263878475202249\n",
      "iteration 45000 of 50000 loss 0.08895489103288332\n"
     ]
    }
   ],
   "source": [
    "classifier = Softmax()\n",
    "loss_hist = classifier.train(X_train, Y_train, learning_rate=1e-4,batch_size=500, num_iters=50000)"
   ]
  },
  {
   "cell_type": "markdown",
   "id": "fae4657e-182e-45a2-acb4-4ebc694a8973",
   "metadata": {},
   "source": [
    "### Plot the Loss\n",
    "\n",
    "Plot the loss as a function of iteration number."
   ]
  },
  {
   "cell_type": "code",
   "execution_count": 17,
   "id": "697af6bb",
   "metadata": {},
   "outputs": [
    {
     "data": {
      "image/png": "[encoded data removed]",
      "text/plain": [
       "<Figure size 640x480 with 1 Axes>"
      ]
     },
     "metadata": {},
     "output_type": "display_data"
    }
   ],
   "source": [
    "plt.plot(loss_hist)\n",
    "plt.xlabel('Iteration number')\n",
    "plt.ylabel('Loss value')\n",
    "plt.show()"
   ]
  },
  {
   "cell_type": "markdown",
   "id": "de7d374c",
   "metadata": {},
   "source": [
    "### Test the Classifier\n",
    "\n",
    "Evaluate the performance on both the training and validation set."
   ]
  },
  {
   "cell_type": "code",
   "execution_count": 18,
   "id": "210a6149",
   "metadata": {},
   "outputs": [
    {
     "name": "stdout",
     "output_type": "stream",
     "text": [
      "training accuracy: 0.973319\n",
      "validation accuracy: 0.942682\n"
     ]
    }
   ],
   "source": [
    "Y_train_pred = classifier.predict(X_train)\n",
    "print('training accuracy: %f' % (np.mean(Y_train == Y_train_pred), ))\n",
    "Y_test_pred = classifier.predict(X_test)\n",
    "print('validation accuracy: %f' % (np.mean(Y_test == Y_test_pred), ))"
   ]
  },
  {
   "cell_type": "markdown",
   "id": "e9853e54",
   "metadata": {},
   "source": [
    "### Visualize the Learned Weights\n",
    "* Take matrix `W` and strip out the bias. \n",
    "* For each class, reshape the matrix back into 2D arrays\n",
    "* Plot the 2D arrays (matrices) as images."
   ]
  },
  {
   "cell_type": "code",
   "execution_count": 19,
   "id": "2d7175ee",
   "metadata": {},
   "outputs": [
    {
     "data": {
      "image/png": "[encoded data removed]",
      "text/plain": [
       "<Figure size 640x480 with 10 Axes>"
      ]
     },
     "metadata": {},
     "output_type": "display_data"
    }
   ],
   "source": [
    "w = classifier.W[:-1, :] # strip out the bias\n",
    "w = w.reshape(8, 8, 10)\n",
    "w_min, w_max = np.min(w), np.max(w)\n",
    "classes = ['0', '1', '2', '3', '4', '5', '6', '7', '8', '9']\n",
    "\n",
    "for i in range(10):\n",
    "    plt.subplot(2, 5, i + 1)\n",
    "      \n",
    "    # Rescale the weights to be between 0 and 255\n",
    "    wimg = 255.0 * (w[:, :, i].squeeze() - w_min) / (w_max - w_min)\n",
    "    plt.imshow(wimg.astype('uint8'), cmap='Greys')\n",
    "    plt.axis('off')\n",
    "    plt.title(classes[i])"
   ]
  }
 ],
 "metadata": {
  "kernelspec": {
   "display_name": "Python 3",
   "language": "python",
   "name": "python3"
  },
  "language_info": {
   "codemirror_mode": {
    "name": "ipython",
    "version": 3
   },
   "file_extension": ".py",
   "mimetype": "text/x-python",
   "name": "python",
   "nbconvert_exporter": "python",
   "pygments_lexer": "ipython3",
   "version": "3.13.2"
  }
 },
 "nbformat": 4,
 "nbformat_minor": 5
}
