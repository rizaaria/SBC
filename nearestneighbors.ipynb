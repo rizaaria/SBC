{
 "cells": [
  {
   "cell_type": "markdown",
   "id": "cd608635-21c7-4cc7-b173-f91d20ab8ac3",
   "metadata": {},
   "source": [
    "# Nearest Neighbor"
   ]
  },
  {
   "cell_type": "markdown",
   "id": "74ffec69-c12e-4d04-94a4-897fa6d37683",
   "metadata": {},
   "source": [
    "__This material is heavily based on the popular Standford CS231n lecture material__. [Please check on their website for more detailed information](https://cs231n.github.io/)."
   ]
  },
  {
   "cell_type": "markdown",
   "id": "09de1be1-77f0-4505-9796-c34d1c62a0dd",
   "metadata": {},
   "source": [
    "## Required Imports"
   ]
  },
  {
   "cell_type": "code",
   "execution_count": 1,
   "id": "2a1f4e9a-dafc-4aff-83b3-26b18453907f",
   "metadata": {},
   "outputs": [],
   "source": [
    "import numpy as np\n",
    "import matplotlib.pyplot as plt\n",
    "from tqdm.auto import tqdm\n",
    "\n",
    "plt.rcParams.update({\n",
    "    \"text.usetex\": True,\n",
    "    \"font.family\": \"Times\",\n",
    "    \"font.size\": 10,\n",
    "})\n",
    "\n",
    "from utils import *"
   ]
  },
  {
   "cell_type": "markdown",
   "id": "c4c9d511-5ba7-4086-84d8-a253227f6de6",
   "metadata": {},
   "source": [
    "## Class KNearestNeighbor"
   ]
  },
  {
   "cell_type": "markdown",
   "id": "1fd02906-e8a1-4df4-ad37-7196170899ed",
   "metadata": {},
   "source": [
    "Implementation of the __naive version__ of the algorithm: compute the distances from the test dataset to all stored training dataset."
   ]
  },
  {
   "cell_type": "code",
   "execution_count": 2,
   "id": "05881b57-2d05-4bbd-893b-dd79028dc4c4",
   "metadata": {},
   "outputs": [],
   "source": [
    "from utils import * \n",
    "\n",
    "class KNearestNeighbor():\n",
    "    def train(self, X, y):\n",
    "        \"\"\"\n",
    "        - X: A 2D numpy array of shape (num_train, D) containing the training data\n",
    "          consisting of num_train samples each of dimension D.\n",
    "        - y: A 1D numpy array of shape (N,) containing the training labels, where\n",
    "             y[i] is the label for X[i].\n",
    "        \"\"\"        \n",
    "        \n",
    "        self.X_train = X\n",
    "        self.y_train = y\n",
    "\n",
    "        self.num_train = X.shape[0]\n",
    "\n",
    "    \n",
    "    def predict(self, X, k=1, L=2):\n",
    "        \"\"\"\n",
    "        - X: A numpy array of shape (num_test, D) containing test data consisting\n",
    "             of num_test samples each of dimension D.\n",
    "        - k: The number of nearest neighbors that vote for the predicted labels.\n",
    "        - L: Determines how the distances are measured (L=1 means L1-norm and L=2 \n",
    "             means L2-norm).\n",
    "\n",
    "        Returns:\n",
    "        - y: A numpy array of shape (num_test,) containing predicted labels for the\n",
    "          test data, where y[i] is the predicted label for the test point X[i].\n",
    "        \"\"\"\n",
    "\n",
    "        num_test = X.shape[0]\n",
    "        dists = compute_distances(self.X_train, X, L=L)\n",
    "        y_pred = np.zeros(num_test, dtype=self.y_train.dtype)\n",
    "           \n",
    "        for i in range(num_test):\n",
    "            closest_y = self.y_train[np.argsort(dists[i])][0:k]\n",
    "            v, n = np.unique(closest_y, return_counts=True)\n",
    "            y_pred[i] = v[np.argmax(n)]\n",
    "    \n",
    "        return y_pred"
   ]
  },
  {
   "cell_type": "markdown",
   "id": "6f91f2ae-b5e1-4510-9124-b32d4a8d99cb",
   "metadata": {},
   "source": [
    "## Breast Cancer Wisconsin\n",
    "\n",
    "We are going to use the breast cancer dataset that has been made publicly available.\n",
    "\n",
    "The dataset was downloaded from [this link](https://archive.ics.uci.edu/dataset/17/breast+cancer+wisconsin+diagnostic)\n",
    "\n",
    "[This dataset is also available as one of scikit-learn example datasets](https://scikit-learn.org/1.5/modules/generated/sklearn.datasets.load_breast_cancer.html#sklearn.datasets.load_breast_cancer\n",
    ")."
   ]
  },
  {
   "cell_type": "code",
   "execution_count": 3,
   "id": "4edd1709-85d5-406a-891e-4cc7ff2278e1",
   "metadata": {},
   "outputs": [
    {
     "name": "stdout",
     "output_type": "stream",
     "text": [
      "Dimension numbers : 30\n",
      "Number of data    : 569\n",
      "Labels            : ['B' 'M']\n"
     ]
    }
   ],
   "source": [
    "data = np.loadtxt(\"./datasets/breast_cancer/wdbc.data\", delimiter=\",\", dtype=str)\n",
    "X = np.float32(data[:, 2:])  # 30 dimensions\n",
    "y = data[:, 1]               # Diagnosis (M = malignant, B = benign)\n",
    "\n",
    "print(\"Dimension numbers :\", X.shape[1])\n",
    "print(\"Number of data    :\", X.shape[0])\n",
    "print(\"Labels            :\", np.unique(y))"
   ]
  },
  {
   "cell_type": "markdown",
   "id": "81729198-cfc1-47bb-9e57-e62ac682a45f",
   "metadata": {},
   "source": [
    "Split the data:\n",
    "* 70% for training\n",
    "* 30% for testing"
   ]
  },
  {
   "cell_type": "code",
   "execution_count": 4,
   "id": "247e6dd3-d1b7-486b-9ea5-c0ff5361fa25",
   "metadata": {},
   "outputs": [],
   "source": [
    "X_train = X[0:400, :]\n",
    "y_train = y[0:400]\n",
    "X_test  = X[401:, :]\n",
    "y_test   = y[401:]\n",
    "\n",
    "num_test = X_test.shape[0]"
   ]
  },
  {
   "cell_type": "markdown",
   "id": "8f75839d-6c78-4d30-afcc-ad0af0128c02",
   "metadata": {},
   "source": [
    "### Train the Classifier"
   ]
  },
  {
   "cell_type": "code",
   "execution_count": 5,
   "id": "885fa8b8-26c0-4758-8383-ddc120b1a54a",
   "metadata": {},
   "outputs": [
    {
     "name": "stdout",
     "output_type": "stream",
     "text": [
      "Got 87 / 168 correct => accuracy: 0.517857\n"
     ]
    }
   ],
   "source": [
    "classifier = KNearestNeighbor()\n",
    "classifier.train(X_train, y_train)\n",
    "y_test_pred = classifier.predict(X_test, k=5, L=1)\n",
    "\n",
    "num_correct = np.sum(y_test_pred == y_test)\n",
    "accuracy = float(num_correct) / float(num_test)\n",
    "print('Got %d / %d correct => accuracy: %f' % (num_correct, num_test, accuracy))"
   ]
  },
  {
   "cell_type": "markdown",
   "id": "fb6b9f90",
   "metadata": {},
   "source": [
    "### Cross Validations\n"
   ]
  },
  {
   "cell_type": "markdown",
   "id": "79a676c5",
   "metadata": {},
   "source": [
    "Here, we perform `k`-fold cross validation to find the best value of `k`. \n",
    "- For each possible value of `k`, run the k-nearest-neighbor algorithm `num_folds` times.  \n",
    "- In each run, use all but one of the folds as training data. The unused fold is used as a validation set. \n",
    "- Store the accuracies for all fold and all values of `k` in the `k_to_accuracies` dictionary.       \n",
    "\n",
    "`k_to_accuracies[k]` should be a list of length `num_folds` giving the different\n",
    "accuracy values that we found when using that value of `k`."
   ]
  },
  {
   "cell_type": "code",
   "execution_count": 6,
   "id": "ba61a138",
   "metadata": {},
   "outputs": [
    {
     "data": {
      "application/vnd.jupyter.widget-view+json": {
       "model_id": "bf00b8fa75634fbb9e9ae292ccdb9a99",
       "version_major": 2,
       "version_minor": 0
      },
      "text/plain": [
       "  0%|          | 0/15 [00:00<?, ?it/s]"
      ]
     },
     "metadata": {},
     "output_type": "display_data"
    },
    {
     "name": "stdout",
     "output_type": "stream",
     "text": [
      "k = 1, average accuracy = 0.411067, std accuracy = 0.083290\n",
      "k = 2, average accuracy = 0.490488, std accuracy = 0.060937\n",
      "k = 3, average accuracy = 0.379524, std accuracy = 0.105952\n",
      "k = 4, average accuracy = 0.402680, std accuracy = 0.086928\n",
      "k = 5, average accuracy = 0.355022, std accuracy = 0.087927\n",
      "k = 6, average accuracy = 0.381529, std accuracy = 0.083995\n",
      "k = 7, average accuracy = 0.349839, std accuracy = 0.092521\n",
      "k = 8, average accuracy = 0.367493, std accuracy = 0.081321\n",
      "k = 9, average accuracy = 0.337490, std accuracy = 0.093599\n",
      "k = 10, average accuracy = 0.348127, std accuracy = 0.093505\n",
      "k = 11, average accuracy = 0.346293, std accuracy = 0.098788\n",
      "k = 12, average accuracy = 0.348078, std accuracy = 0.095754\n",
      "k = 13, average accuracy = 0.330350, std accuracy = 0.095045\n",
      "k = 14, average accuracy = 0.328687, std accuracy = 0.094060\n",
      "k = 15, average accuracy = 0.332086, std accuracy = 0.099775\n"
     ]
    }
   ],
   "source": [
    "num_folds = 8\n",
    "k_choices = [1, 2, 3, 4, 5, 6, 7, 8, 9, 10, 11, 12, 13, 14, 15]\n",
    "\n",
    "# Split up the training data into folds\n",
    "X_train_folds = np.array_split(X, num_folds)\n",
    "y_train_folds = np.array_split(y, num_folds)\n",
    "\n",
    "# Perform k-fold cross validation to find the best value of k. For each        \n",
    "k_to_accuracies = {}\n",
    "\n",
    "for k in tqdm(k_choices):\n",
    "    k_to_accuracies[k] = []\n",
    "\n",
    "    for i in range(num_folds):\n",
    "        N = np.arange(num_folds)\n",
    "        N = np.delete(N, i)\n",
    "        X_train_temp = np.vstack([X_train_folds[j] for j in N])\n",
    "        y_train_temp = np.hstack([y_train_folds[j] for j in N])\n",
    "\n",
    "        # Train the classifier based on the training data\n",
    "        classifier.train(X_train_temp, y_train_temp)\n",
    "\n",
    "        # Predict using the remaining fold representing validation data\n",
    "        y_pred_temp = classifier.predict(X_train_folds[i], k=k, L=1)\n",
    "\n",
    "        # Compute the accuracy of the predicted label\n",
    "        num_correct = np.sum(y_pred_temp == y_train_folds[i])\n",
    "        k_to_accuracies[k].append(num_correct / len(y_pred_temp))\n",
    "\n",
    "# Print out the computed accuracies\n",
    "for k in sorted(k_to_accuracies):\n",
    "    accuracy = k_to_accuracies[k]\n",
    "    print('k = %d, average accuracy = %f, std accuracy = %f' % (k, np.mean(accuracy), np.std(accuracy)))\n"
   ]
  },
  {
   "cell_type": "code",
   "execution_count": 7,
   "id": "0376aca9",
   "metadata": {},
   "outputs": [
    {
     "data": {
      "image/png": "[encoded data removed]",
      "text/plain": [
       "<Figure size 640x480 with 1 Axes>"
      ]
     },
     "metadata": {},
     "output_type": "display_data"
    }
   ],
   "source": [
    "# Plot the raw observations\n",
    "for k in k_choices:\n",
    "    accuracies = k_to_accuracies[k]\n",
    "    plt.scatter([k] * len(accuracies), accuracies)\n",
    "\n",
    "# plot the trend line with error bars that correspond to standard deviation\n",
    "accuracies_mean = np.array([np.mean(v) for k,v in sorted(k_to_accuracies.items())])\n",
    "accuracies_std = np.array([np.std(v) for k,v in sorted(k_to_accuracies.items())])\n",
    "plt.errorbar(k_choices, accuracies_mean, yerr=accuracies_std)\n",
    "plt.title('Cross-validation on k')\n",
    "plt.xlabel('k')\n",
    "plt.ylabel('Cross-validation accuracy')\n",
    "plt.show()"
   ]
  },
  {
   "cell_type": "markdown",
   "id": "c191ccde-e73f-40aa-93dd-a2c57bba0e03",
   "metadata": {},
   "source": [
    "### The Best Value for `k`"
   ]
  },
  {
   "cell_type": "markdown",
   "id": "c99eae43",
   "metadata": {},
   "source": [
    "Based on the cross-validation results above:\n",
    "- choose the best value for k.   \n",
    "- retrain the classifier using all the training data\n",
    "- test it on the test data"
   ]
  },
  {
   "cell_type": "code",
   "execution_count": 8,
   "id": "738ef786",
   "metadata": {},
   "outputs": [
    {
     "name": "stdout",
     "output_type": "stream",
     "text": [
      "Best value for k:  2\n",
      "Got 113 / 168 correct => accuracy: 0.672619\n"
     ]
    }
   ],
   "source": [
    "best_k = k_choices[accuracies_mean.argmax()]\n",
    "print('Best value for k: ', best_k)\n",
    "\n",
    "classifier = KNearestNeighbor()\n",
    "classifier.train(X_train, y_train)\n",
    "y_test_pred = classifier.predict(X_test, k=best_k, L=1)\n",
    "\n",
    "# Compute and display the accuracy\n",
    "num_correct = np.sum(y_test_pred == y_test)\n",
    "accuracy = float(num_correct) / num_test\n",
    "\n",
    "print('Got %d / %d correct => accuracy: %f' % (num_correct, num_test, accuracy))"
   ]
  }
 ],
 "metadata": {
  "kernelspec": {
   "display_name": "ipykernel 3.12.4",
   "language": "python",
   "name": "py.3.12.4"
  },
  "language_info": {
   "codemirror_mode": {
    "name": "ipython",
    "version": 3
   },
   "file_extension": ".py",
   "mimetype": "text/x-python",
   "name": "python",
   "nbconvert_exporter": "python",
   "pygments_lexer": "ipython3",
   "version": "3.12.3"
  }
 },
 "nbformat": 4,
 "nbformat_minor": 5
}
