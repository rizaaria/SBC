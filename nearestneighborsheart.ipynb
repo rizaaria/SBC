{
 "cells": [
  {
   "cell_type": "markdown",
   "id": "cd608635-21c7-4cc7-b173-f91d20ab8ac3",
   "metadata": {},
   "source": [
    "# Nearest Neighbor"
   ]
  },
  {
   "cell_type": "markdown",
   "id": "74ffec69-c12e-4d04-94a4-897fa6d37683",
   "metadata": {},
   "source": [
    "__This material is heavily based on the popular Standford CS231n lecture material__. [Please check on their website for more detailed information](https://cs231n.github.io/).\n",
    "\n",
    "There are several repositories that offer solutions to CS231n problem sets, for examples:\n",
    "- https://github.com/lightaime/cs231n\n",
    "- https://github.com/mantasu/cs231n\n",
    "- https://github.com/jariasf/CS231n"
   ]
  },
  {
   "cell_type": "markdown",
   "id": "09de1be1-77f0-4505-9796-c34d1c62a0dd",
   "metadata": {},
   "source": [
    "## Required Imports"
   ]
  },
  {
   "cell_type": "code",
   "execution_count": 1,
   "id": "2a1f4e9a-dafc-4aff-83b3-26b18453907f",
   "metadata": {},
   "outputs": [
    {
     "name": "stderr",
     "output_type": "stream",
     "text": [
      "c:\\Users\\dinko\\AppData\\Local\\Programs\\Python\\Python313\\Lib\\site-packages\\tqdm\\auto.py:21: TqdmWarning: IProgress not found. Please update jupyter and ipywidgets. See https://ipywidgets.readthedocs.io/en/stable/user_install.html\n",
      "  from .autonotebook import tqdm as notebook_tqdm\n"
     ]
    }
   ],
   "source": [
    "import numpy as np\n",
    "import pandas as pd\n",
    "import matplotlib.pyplot as plt\n",
    "from tqdm.auto import tqdm\n",
    "\n",
    "plt.rcParams.update({\n",
    "    \"text.usetex\": True,\n",
    "    \"font.family\": \"Times\",\n",
    "    \"font.size\": 10,\n",
    "})\n",
    "\n",
    "from utils import *"
   ]
  },
  {
   "cell_type": "markdown",
   "id": "c4c9d511-5ba7-4086-84d8-a253227f6de6",
   "metadata": {},
   "source": [
    "## Class KNearestNeighbor"
   ]
  },
  {
   "cell_type": "markdown",
   "id": "1fd02906-e8a1-4df4-ad37-7196170899ed",
   "metadata": {},
   "source": [
    "Implementation of the __naive version__ of the algorithm: compute the distances from the test dataset to all stored training dataset."
   ]
  },
  {
   "cell_type": "code",
   "execution_count": 2,
   "id": "05881b57-2d05-4bbd-893b-dd79028dc4c4",
   "metadata": {},
   "outputs": [],
   "source": [
    "from utils import * \n",
    "\n",
    "class KNearestNeighbor():\n",
    "    def train(self, X, y):\n",
    "        \"\"\"\n",
    "        - X: A 2D numpy array of shape (num_train, D) containing the training data\n",
    "          consisting of num_train samples each of dimension D.\n",
    "        - y: A 1D numpy array of shape (N,) containing the training labels, where\n",
    "             y[i] is the label for X[i].\n",
    "        \"\"\"        \n",
    "        \n",
    "        self.X_train = X\n",
    "        self.y_train = y\n",
    "\n",
    "        self.num_train = X.shape[0]\n",
    "\n",
    "    \n",
    "    def predict(self, X, k=1, L=2):\n",
    "        \"\"\"\n",
    "        - X: A numpy array of shape (num_test, D) containing test data consisting\n",
    "             of num_test samples each of dimension D.\n",
    "        - k: The number of nearest neighbors that vote for the predicted labels.\n",
    "        - L: Determines how the distances are measured (L=1 means L1-norm and L=2 \n",
    "             means L2-norm).\n",
    "\n",
    "        Returns:\n",
    "        - y: A numpy array of shape (num_test,) containing predicted labels for the\n",
    "          test data, where y[i] is the predicted label for the test point X[i].\n",
    "        \"\"\"\n",
    "\n",
    "        num_test = X.shape[0]\n",
    "        dists = compute_distances(self.X_train, X, L=L)\n",
    "        y_pred = np.zeros(num_test, dtype=self.y_train.dtype)\n",
    "           \n",
    "        for i in range(num_test):\n",
    "            closest_y = self.y_train[np.argsort(dists[i])][0:k]\n",
    "            v, n = np.unique(closest_y, return_counts=True)\n",
    "            y_pred[i] = v[np.argmax(n)]\n",
    "    \n",
    "        return y_pred"
   ]
  },
  {
   "cell_type": "markdown",
   "id": "f559b8b8",
   "metadata": {},
   "source": [
    "## Heart Disease Prediction"
   ]
  },
  {
   "cell_type": "code",
   "execution_count": 3,
   "id": "dc42b553",
   "metadata": {},
   "outputs": [
    {
     "name": "stdout",
     "output_type": "stream",
     "text": [
      "Dimension numbers : 13\n",
      "Number of data    : 270\n",
      "Labels            : ['Absence' 'Presence']\n"
     ]
    }
   ],
   "source": [
    "data1 = pd.read_csv(\"./datasets/heart/Heart_Disease_Prediction.csv\")\n",
    "X1 = data1.drop('Heart Disease', axis=1)\n",
    "y1 = data1['Heart Disease']\n",
    "\n",
    "print(\"Dimension numbers :\", X1.shape[1])\n",
    "print(\"Number of data    :\", X1.shape[0])\n",
    "print(\"Labels            :\", np.unique(y1))"
   ]
  },
  {
   "cell_type": "markdown",
   "id": "81729198-cfc1-47bb-9e57-e62ac682a45f",
   "metadata": {},
   "source": [
    "Split the data:\n",
    "* 70% for training\n",
    "* 30% for testing"
   ]
  },
  {
   "cell_type": "code",
   "execution_count": 4,
   "id": "b0841def",
   "metadata": {},
   "outputs": [],
   "source": [
    "X_train1 = X1.iloc[0:189, :].to_numpy()\n",
    "y_train1 = y1.iloc[0:189].to_numpy()\n",
    "X_test1  = X1.iloc[190:, :].to_numpy()\n",
    "y_test1  = y1.iloc[190:].to_numpy()\n",
    "\n",
    "num_test1 = X_test1.shape[0]"
   ]
  },
  {
   "cell_type": "markdown",
   "id": "8f75839d-6c78-4d30-afcc-ad0af0128c02",
   "metadata": {},
   "source": [
    "### Train the Classifier"
   ]
  },
  {
   "cell_type": "code",
   "execution_count": 5,
   "id": "7da15709",
   "metadata": {},
   "outputs": [
    {
     "name": "stdout",
     "output_type": "stream",
     "text": [
      "Got 47 / 80 correct => accuracy: 0.587500\n"
     ]
    }
   ],
   "source": [
    "classifier1 = KNearestNeighbor()\n",
    "classifier1.train(X_train1, y_train1)\n",
    "y_test_pred1 = classifier1.predict(X_test1, k=5, L=1)\n",
    "\n",
    "num_correct1 = np.sum(y_test_pred1 == y_test1)\n",
    "accuracy1 = float(num_correct1) / float(num_test1)\n",
    "print('Got %d / %d correct => accuracy: %f' % (num_correct1, num_test1, accuracy1))"
   ]
  },
  {
   "cell_type": "markdown",
   "id": "fb6b9f90",
   "metadata": {},
   "source": [
    "### Cross Validations\n"
   ]
  },
  {
   "cell_type": "markdown",
   "id": "79a676c5",
   "metadata": {},
   "source": [
    "Here, we perform `k`-fold cross validation to find the best value of `k`. \n",
    "- For each possible value of `k`, run the k-nearest-neighbor algorithm `num_folds` times.  \n",
    "- In each run, use all but one of the folds as training data. The unused fold is used as a validation set. \n",
    "- Store the accuracies for all fold and all values of `k` in the `k_to_accuracies` dictionary.       \n",
    "\n",
    "`k_to_accuracies[k]` should be a list of length `num_folds` giving the different\n",
    "accuracy values that we found when using that value of `k`."
   ]
  },
  {
   "cell_type": "code",
   "execution_count": 6,
   "id": "6a48f94d",
   "metadata": {},
   "outputs": [
    {
     "name": "stdout",
     "output_type": "stream",
     "text": [
      "k = 1, average accuracy = 0.547794, std accuracy = 0.069294\n",
      "k = 2, average accuracy = 0.526070, std accuracy = 0.057882\n",
      "k = 3, average accuracy = 0.473930, std accuracy = 0.067882\n",
      "k = 4, average accuracy = 0.489082, std accuracy = 0.071614\n",
      "k = 5, average accuracy = 0.492758, std accuracy = 0.104783\n",
      "k = 6, average accuracy = 0.511252, std accuracy = 0.097815\n",
      "k = 7, average accuracy = 0.477718, std accuracy = 0.116867\n",
      "k = 8, average accuracy = 0.496435, std accuracy = 0.118807\n",
      "k = 9, average accuracy = 0.514817, std accuracy = 0.108814\n",
      "k = 10, average accuracy = 0.522393, std accuracy = 0.100422\n",
      "k = 11, average accuracy = 0.496546, std accuracy = 0.093901\n",
      "k = 12, average accuracy = 0.507799, std accuracy = 0.088667\n",
      "k = 13, average accuracy = 0.515486, std accuracy = 0.103419\n",
      "k = 14, average accuracy = 0.518939, std accuracy = 0.075040\n",
      "k = 15, average accuracy = 0.500446, std accuracy = 0.088859\n"
     ]
    }
   ],
   "source": [
    "num_folds1 = 8\n",
    "k_choices1 = [1, 2, 3, 4, 5, 6, 7, 8, 9, 10, 11, 12, 13, 14, 15]\n",
    "\n",
    "X_np = X1.to_numpy()\n",
    "y_np = y1.to_numpy()\n",
    "\n",
    "# Split up the training data into folds\n",
    "X_train_folds1 = np.array_split(X_np, num_folds1)\n",
    "y_train_folds1 = np.array_split(y_np, num_folds1)\n",
    "\n",
    "# Perform k-fold cross validation to find the best value of k. For each        \n",
    "k_to_accuracies1 = {}\n",
    "\n",
    "for k in k_choices1:\n",
    "    k_to_accuracies1[k] = []\n",
    "\n",
    "    for i in range(num_folds1):\n",
    "        N = np.arange(num_folds1)\n",
    "        N = np.delete(N, i)\n",
    "        X_train_temp1 = np.vstack([X_train_folds1[j] for j in N])\n",
    "        y_train_temp1 = np.hstack([y_train_folds1[j] for j in N])\n",
    "\n",
    "        # Train the classifier based on the training data\n",
    "        classifier1.train(X_train_temp1, y_train_temp1)\n",
    "\n",
    "        # Predict using the remaining fold representing validation data\n",
    "        y_pred_temp1 = classifier1.predict(X_train_folds1[i], k=k, L=1)\n",
    "\n",
    "        # Compute the accuracy of the predicted label\n",
    "        num_correct1 = np.sum(y_pred_temp1 == y_train_folds1[i])\n",
    "        k_to_accuracies1[k].append(num_correct1 / len(y_pred_temp1))\n",
    "\n",
    "# Print out the computed accuracies\n",
    "for k in sorted(k_to_accuracies1):\n",
    "    accuracy1 = k_to_accuracies1[k]\n",
    "    print('k = %d, average accuracy = %f, std accuracy = %f' % (k, np.mean(accuracy1), np.std(accuracy1)))\n"
   ]
  },
  {
   "cell_type": "code",
   "execution_count": 7,
   "id": "c80d3f65",
   "metadata": {},
   "outputs": [
    {
     "data": {
      "image/png": "[encoded data removed]",
      "text/plain": [
       "<Figure size 640x480 with 1 Axes>"
      ]
     },
     "metadata": {},
     "output_type": "display_data"
    }
   ],
   "source": [
    "# Plot the raw observations\n",
    "for k in k_choices1:\n",
    "    accuracies1 = k_to_accuracies1[k]\n",
    "    plt.scatter([k] * len(accuracies1), accuracies1)\n",
    "\n",
    "# plot the trend line with error bars that correspond to standard deviation\n",
    "accuracies_mean1 = np.array([np.mean(v) for k,v in sorted(k_to_accuracies1.items())])\n",
    "accuracies_std1 = np.array([np.std(v) for k,v in sorted(k_to_accuracies1.items())])\n",
    "plt.errorbar(k_choices1, accuracies_mean1, yerr=accuracies_std1)\n",
    "plt.title('Cross-validation on k')\n",
    "plt.xlabel('k')\n",
    "plt.ylabel('Cross-validation accuracy')\n",
    "plt.show()"
   ]
  },
  {
   "cell_type": "markdown",
   "id": "c191ccde-e73f-40aa-93dd-a2c57bba0e03",
   "metadata": {},
   "source": [
    "### The Best Value for `k`"
   ]
  },
  {
   "cell_type": "markdown",
   "id": "c99eae43",
   "metadata": {},
   "source": [
    "Based on the cross-validation results above:\n",
    "- choose the best value for k.   \n",
    "- retrain the classifier using all the training data\n",
    "- test it on the test data"
   ]
  },
  {
   "cell_type": "code",
   "execution_count": 8,
   "id": "95bf2fa3",
   "metadata": {},
   "outputs": [
    {
     "name": "stdout",
     "output_type": "stream",
     "text": [
      "Best value for k:  1\n",
      "Got 43 of 80 correct => accuracy: 0.537500\n"
     ]
    }
   ],
   "source": [
    "best_k1 = k_choices1[accuracies_mean1.argmax()]\n",
    "print('Best value for k: ', best_k1)\n",
    "\n",
    "classifier1 = KNearestNeighbor()\n",
    "classifier1.train(X_train1, y_train1)\n",
    "y_test_pred1 = classifier1.predict(X_test1, k=best_k1, L=1)\n",
    "\n",
    "# Compute and display the accuracy\n",
    "num_correct1 = np.sum(y_test_pred1 == y_test1)\n",
    "accuracy1 = float(num_correct1) / num_test1\n",
    "\n",
    "print('Got %d of %d correct => accuracy: %f' % (num_correct1, num_test1, accuracy1))"
   ]
  }
 ],
 "metadata": {
  "kernelspec": {
   "display_name": "Python 3",
   "language": "python",
   "name": "python3"
  },
  "language_info": {
   "codemirror_mode": {
    "name": "ipython",
    "version": 3
   },
   "file_extension": ".py",
   "mimetype": "text/x-python",
   "name": "python",
   "nbconvert_exporter": "python",
   "pygments_lexer": "ipython3",
   "version": "3.13.2"
  }
 },
 "nbformat": 4,
 "nbformat_minor": 5
}
