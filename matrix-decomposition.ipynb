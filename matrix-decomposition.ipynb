{
 "cells": [
  {
   "cell_type": "markdown",
   "metadata": {},
   "source": [
    "# Matrix Decomposition"
   ]
  },
  {
   "cell_type": "code",
   "execution_count": 1,
   "metadata": {},
   "outputs": [],
   "source": [
    "import numpy as np"
   ]
  },
  {
   "cell_type": "markdown",
   "metadata": {},
   "source": [
    "## Eigen Decomposition\n",
    "\n",
    "$$\\mathbf{A}\\vec{x} = \\lambda \\vec{x}$$\n",
    "\n",
    "where:\n",
    "* $\\vec{x}$ is the Eigen vector\n",
    "* $\\lambda$ is the Eigen values\n",
    "\n",
    "$$\\mathbf{A} = \\mathbf{Q} \\, \\text{diag}(\\lambda) \\, \\mathbf{Q}^{-1}$$\n",
    "\n",
    "where $\\mathbf{Q}$ is the orthogonal Eigenvector matrix.\n"
   ]
  },
  {
   "cell_type": "markdown",
   "metadata": {},
   "source": [
    "Example:\n",
    "\n",
    "Take matrix $\\mathbf{A}$, find the Eigen values and Eigenvector matrix!"
   ]
  },
  {
   "cell_type": "code",
   "execution_count": 2,
   "metadata": {},
   "outputs": [
    {
     "data": {
      "text/plain": [
       "array([[4, 1],\n",
       "       [2, 1]])"
      ]
     },
     "execution_count": 2,
     "metadata": {},
     "output_type": "execute_result"
    }
   ],
   "source": [
    "A = np.array([[4, 1],\n",
    "              [2, 1]])\n",
    "A"
   ]
  },
  {
   "cell_type": "code",
   "execution_count": 3,
   "metadata": {},
   "outputs": [
    {
     "name": "stdout",
     "output_type": "stream",
     "text": [
      "Eigen values = \n",
      "[4.56155281 0.43844719]\n",
      "Eigenvector matrix = \n",
      "[[ 0.87192821 -0.27032301]\n",
      " [ 0.48963374  0.96276969]]\n"
     ]
    }
   ],
   "source": [
    "e, Q = np.linalg.eig(A)\n",
    "\n",
    "print(\"Eigen values = \")\n",
    "print(e)\n",
    "\n",
    "print(\"Eigenvector matrix = \")\n",
    "print(Q)"
   ]
  },
  {
   "cell_type": "markdown",
   "metadata": {},
   "source": [
    "Compute $\\mathbf{Q} \\, \\text{diag}(\\lambda) \\, \\mathbf{Q}^{-1}$. Show that the resul is $\\mathbf{A}$."
   ]
  },
  {
   "cell_type": "code",
   "execution_count": 4,
   "metadata": {},
   "outputs": [
    {
     "data": {
      "text/plain": [
       "array([[4., 1.],\n",
       "       [2., 1.]])"
      ]
     },
     "execution_count": 4,
     "metadata": {},
     "output_type": "execute_result"
    }
   ],
   "source": [
    "Q@np.diag(e)@np.linalg.inv(Q)"
   ]
  },
  {
   "cell_type": "markdown",
   "metadata": {},
   "source": [
    "## SVD Decomposition"
   ]
  },
  {
   "cell_type": "markdown",
   "metadata": {},
   "source": [
    "$$\n",
    "\\mathbf{A}=\\mathbf{U} \\mathbf{\\Sigma} \\mathbf{V}^T\n",
    "$$\n",
    "\n",
    "where:\n",
    "\n",
    "* $\\mathbf{U}$ is an orthogonal matrix\n",
    "* $\\mathbf{\\Sigma}$ is an rectangular diagonal matrix\n",
    "* $\\mathbf{V}$ is an orthogonal matrix\n",
    "\n",
    "\n",
    "The SVD of $\\mathbf{A}$ is closely related to the eigendecompositions of $\\mathbf{A} \\mathbf{A}^T$ and $\\mathbf{A}^T \\mathbf{A}$\n",
    "- The left singular vectors are the eigenvectors of $\\mathbf{A A}^T$\n",
    "- The right singular vectors are the eigenvectors of $\\mathbf{A}^T \\mathbf{A}$\n",
    "- The singular values are the square roots of the eigenvalues of both $\\mathbf{A A}^T$ and $\\mathbf{A}^T \\mathbf{A}$\n"
   ]
  },
  {
   "cell_type": "markdown",
   "metadata": {},
   "source": [
    "### Example:\n",
    "\n",
    "Example:\n",
    "\n",
    "Take matrix $\\mathbf{A}$, find the SVD decomposition!"
   ]
  },
  {
   "cell_type": "code",
   "execution_count": 5,
   "metadata": {},
   "outputs": [
    {
     "data": {
      "text/plain": [
       "array([[4, 1],\n",
       "       [2, 1]])"
      ]
     },
     "execution_count": 5,
     "metadata": {},
     "output_type": "execute_result"
    }
   ],
   "source": [
    "A = np.array([[4, 1],\n",
    "              [2, 1]])\n",
    "A"
   ]
  },
  {
   "cell_type": "code",
   "execution_count": 6,
   "metadata": {},
   "outputs": [
    {
     "name": "stdout",
     "output_type": "stream",
     "text": [
      "U = \n",
      "[[-0.8816746  -0.47185793]\n",
      " [-0.47185793  0.8816746 ]]\n",
      "S = \n",
      "[4.6708301  0.42818941]\n",
      "V = \n",
      "[[-0.95709203 -0.28978415]\n",
      " [-0.28978415  0.95709203]]\n"
     ]
    }
   ],
   "source": [
    "U, S, V = np.linalg.svd(A)\n",
    "print(\"U = \")\n",
    "print(U)\n",
    "\n",
    "print(\"S = \")\n",
    "print(S)\n",
    "\n",
    "print(\"V = \")\n",
    "print(V)"
   ]
  },
  {
   "cell_type": "code",
   "execution_count": 7,
   "metadata": {},
   "outputs": [
    {
     "data": {
      "text/plain": [
       "array([[4., 1.],\n",
       "       [2., 1.]])"
      ]
     },
     "execution_count": 7,
     "metadata": {},
     "output_type": "execute_result"
    }
   ],
   "source": [
    "U@np.diag(S)@V.transpose()"
   ]
  },
  {
   "cell_type": "markdown",
   "metadata": {},
   "source": [
    "## SVD Decomposition of a Square Symmetric and Positive Definite Matrix\n",
    "\n",
    "A square matrix is called positive definite if it is symmetric and all its eigenvalues $\\lambda$ are positive, that is $\\lambda > 0$.\n",
    "\n",
    "Additionally, if $\\mathbf{A}$ is positive definite, then it is invertible and $\\det(\\mathbf{A}) > 0$.\n",
    "\n",
    "For square symmetric and positive definite matrix:\n",
    "\n",
    "$$\\text{eig}(\\mathbf{A})  = \\mathbf{\\Sigma} $$"
   ]
  },
  {
   "cell_type": "markdown",
   "metadata": {},
   "source": [
    "Example, take matrix $\\mathbf{A}$, show that its SVD decompositoin is equal to its Eigen decomposition."
   ]
  },
  {
   "cell_type": "code",
   "execution_count": 8,
   "metadata": {},
   "outputs": [],
   "source": [
    "A = np.array([[2, 1],\n",
    "              [1, 1]])\n",
    "\n",
    "U, S, V = np.linalg.svd(A)\n",
    "e, Q = np.linalg.eig(A)\n",
    "\n"
   ]
  },
  {
   "cell_type": "code",
   "execution_count": 9,
   "metadata": {},
   "outputs": [
    {
     "name": "stdout",
     "output_type": "stream",
     "text": [
      "[2.61803399 0.38196601]\n",
      "[2.61803399 0.38196601]\n"
     ]
    }
   ],
   "source": [
    "print(S)\n",
    "print(e)"
   ]
  },
  {
   "cell_type": "code",
   "execution_count": 10,
   "metadata": {},
   "outputs": [
    {
     "name": "stdout",
     "output_type": "stream",
     "text": [
      "[[-0.85065081 -0.52573111]\n",
      " [-0.52573111  0.85065081]]\n",
      "[[-0.85065081 -0.52573111]\n",
      " [-0.52573111  0.85065081]]\n",
      "[[ 0.85065081 -0.52573111]\n",
      " [ 0.52573111  0.85065081]]\n"
     ]
    }
   ],
   "source": [
    "print(U)\n",
    "print(V)\n",
    "print(Q)"
   ]
  }
 ],
 "metadata": {
  "kernelspec": {
   "display_name": "ipykernel 3.12.4",
   "language": "python",
   "name": "py.3.12.4"
  },
  "language_info": {
   "codemirror_mode": {
    "name": "ipython",
    "version": 3
   },
   "file_extension": ".py",
   "mimetype": "text/x-python",
   "name": "python",
   "nbconvert_exporter": "python",
   "pygments_lexer": "ipython3",
   "version": "3.12.3"
  }
 },
 "nbformat": 4,
 "nbformat_minor": 2
}
