{
 "cells": [
  {
   "cell_type": "markdown",
   "metadata": {},
   "source": [
    "# Matrix Decomposition"
   ]
  },
  {
   "cell_type": "markdown",
   "metadata": {},
   "source": [
    "## Preparation\n",
    "\n",
    "We only need NumPy."
   ]
  },
  {
   "cell_type": "code",
   "execution_count": 12,
   "metadata": {},
   "outputs": [],
   "source": [
    "import numpy as np"
   ]
  },
  {
   "cell_type": "markdown",
   "metadata": {},
   "source": [
    "## Eigen Decomposition\n",
    "Let us start with the definition of an Eigen value and its correspoinding Eigen vector.\n",
    "\n",
    "$$\\mathbf{A}\\vec{x} = \\lambda \\vec{x}$$\n",
    "\n",
    "where:\n",
    "* $\\mathbf{A}$ is a square matrix\n",
    "* $\\lambda$ is an Eigen value of $\\mathbf{A}$\n",
    "* $\\vec{x}$ is the corresponding Eigen vector\n",
    "\n",
    "Next, there are more than one Eigen values ($\\mathbf{\\bar{\\lambda}}$) of $\\mathbf{A}$:\n",
    "\n",
    "$$\\mathbf{A} = \\mathbf{Q} \\, \\mathbf{\\Lambda} \\, \\mathbf{Q}^{-1}$$\n",
    "\n",
    "where \n",
    "* $\\mathbf{A}$ is a square matrix\n",
    "* $\\mathbf{Q}$ is the orthogonal Eigen-vector matrix\n",
    "* $\\text{diag}({\\mathbf{\\Lambda}})$ is the Eigen values.\n",
    "\n",
    "This definition is known as the Eigen decomposition.\n"
   ]
  },
  {
   "cell_type": "markdown",
   "metadata": {},
   "source": [
    "**Example:**\n",
    "\n",
    "Take matrix $\\mathbf{A}$, find the Eigen values and Eigenvector matrix!"
   ]
  },
  {
   "cell_type": "code",
   "execution_count": 13,
   "metadata": {},
   "outputs": [
    {
     "name": "stdout",
     "output_type": "stream",
     "text": [
      "[[4 1]\n",
      " [2 1]]\n"
     ]
    }
   ],
   "source": [
    "A = np.array([[4, 1],\n",
    "              [2, 1]])\n",
    "print(A)"
   ]
  },
  {
   "cell_type": "code",
   "execution_count": 14,
   "metadata": {},
   "outputs": [
    {
     "name": "stdout",
     "output_type": "stream",
     "text": [
      "Eigen values = \n",
      "[4.56155281 0.43844719]\n",
      "Eigenvector matrix = \n",
      "[[ 0.87192821 -0.27032301]\n",
      " [ 0.48963374  0.96276969]]\n"
     ]
    }
   ],
   "source": [
    "lambdas, Q = np.linalg.eig(A)\n",
    "\n",
    "print(\"Eigen values = \")\n",
    "print(lambdas)\n",
    "\n",
    "print(\"Eigenvector matrix = \")\n",
    "print(Q)"
   ]
  },
  {
   "cell_type": "markdown",
   "metadata": {},
   "source": [
    "Compute $\\mathbf{Q} \\mathbf{\\Lambda} \\mathbf{Q}^{-1}$. Show that the result is $\\mathbf{A}$."
   ]
  },
  {
   "cell_type": "code",
   "execution_count": 15,
   "metadata": {},
   "outputs": [
    {
     "data": {
      "text/plain": [
       "array([[4., 1.],\n",
       "       [2., 1.]])"
      ]
     },
     "execution_count": 15,
     "metadata": {},
     "output_type": "execute_result"
    }
   ],
   "source": [
    "Q@np.diag(lambdas)@np.linalg.inv(Q)"
   ]
  },
  {
   "cell_type": "markdown",
   "metadata": {},
   "source": [
    "## SVD Decomposition"
   ]
  },
  {
   "cell_type": "markdown",
   "metadata": {},
   "source": [
    "$$\n",
    "\\mathbf{A}=\\mathbf{U} \\, \\mathbf{\\Sigma} \\, \\mathbf{V}^T\n",
    "$$\n",
    "\n",
    "where:\n",
    "\n",
    "* $\\mathbf{U}$ is an orthogonal matrix\n",
    "* $\\mathbf{\\Sigma}$ is a rectangular diagonal matrix\n",
    "* $\\mathbf{V}$ is an orthogonal matrix\n",
    "\n",
    "\n",
    "The SVD of $\\mathbf{A}$ is closely related to the eigendecompositions of $\\mathbf{A} \\mathbf{A}^T$ and $\\mathbf{A}^T \\mathbf{A}$\n",
    "- The left singular vectors are the eigenvectors of $\\mathbf{A A}^T$\n",
    "- The right singular vectors are the eigenvectors of $\\mathbf{A}^T \\mathbf{A}$\n",
    "- The singular values are the square roots of the eigenvalues of both $\\mathbf{A A}^T$ and $\\mathbf{A}^T \\mathbf{A}$\n"
   ]
  },
  {
   "cell_type": "markdown",
   "metadata": {},
   "source": [
    "Example:\n",
    "\n",
    "Take matrix $\\mathbf{A}$, find the SVD decomposition!"
   ]
  },
  {
   "cell_type": "code",
   "execution_count": 16,
   "metadata": {},
   "outputs": [
    {
     "name": "stdout",
     "output_type": "stream",
     "text": [
      "[[4 1]\n",
      " [2 1]]\n"
     ]
    }
   ],
   "source": [
    "A = np.array([[4, 1],\n",
    "              [2, 1]])\n",
    "print(A)"
   ]
  },
  {
   "cell_type": "code",
   "execution_count": 17,
   "metadata": {},
   "outputs": [
    {
     "name": "stdout",
     "output_type": "stream",
     "text": [
      "U = \n",
      "[[-0.8816746  -0.47185793]\n",
      " [-0.47185793  0.8816746 ]]\n",
      "S = \n",
      "[4.6708301  0.42818941]\n",
      "V = \n",
      "[[-0.95709203 -0.28978415]\n",
      " [-0.28978415  0.95709203]]\n"
     ]
    }
   ],
   "source": [
    "U, S, V = np.linalg.svd(A)\n",
    "print(\"U = \")\n",
    "print(U)\n",
    "\n",
    "print(\"S = \") # S = diag(Sigma)\n",
    "print(S)\n",
    "\n",
    "print(\"V = \")\n",
    "print(V)"
   ]
  },
  {
   "cell_type": "markdown",
   "metadata": {},
   "source": [
    "## SVD Decomposition of a Square Symmetric and Positive Definite Matrix\n",
    "\n",
    "A square matrix is called positive definite if it is symmetric and all its eigenvalues $\\lambda$ are positive, that is $\\lambda > 0$.\n",
    "\n",
    "Additionally, if $\\mathbf{A}$ is positive definite, then it is invertible and $\\det(\\mathbf{A}) > 0$.\n",
    "\n",
    "For square symmetric and positive definite matrix:\n",
    "\n",
    "$$\\text{diag}(\\text{eig}(\\mathbf{A}))  = \\mathbf{\\Sigma} $$"
   ]
  },
  {
   "cell_type": "markdown",
   "metadata": {},
   "source": [
    "Example, take matrix $\\mathbf{A}$, show that its SVD decomposition is equal to its Eigen decomposition."
   ]
  },
  {
   "cell_type": "code",
   "execution_count": 18,
   "metadata": {},
   "outputs": [],
   "source": [
    "A = np.array([[4, 1],\n",
    "              [1, 1]])\n",
    "\n",
    "U, S, V = np.linalg.svd(A)\n",
    "e, Q = np.linalg.eig(A)\n"
   ]
  },
  {
   "cell_type": "markdown",
   "metadata": {},
   "source": [
    "Let us show that $\\Sigma = \\lambda$:"
   ]
  },
  {
   "cell_type": "code",
   "execution_count": 19,
   "metadata": {},
   "outputs": [
    {
     "name": "stdout",
     "output_type": "stream",
     "text": [
      "[4.30277564 0.69722436] = [4.30277564 0.69722436]\n"
     ]
    }
   ],
   "source": [
    "print(S, '=', e)"
   ]
  },
  {
   "cell_type": "markdown",
   "metadata": {},
   "source": [
    "Now, let us take $\\mathbf{U}$ of the SVD decompositoin and show the following equation is valid.\n",
    "\n",
    "$$\\mathbf{A} = \\mathbf{U}  \\mathbf{\\Lambda} \\mathbf{U}^{-1}$$"
   ]
  },
  {
   "cell_type": "code",
   "execution_count": 20,
   "metadata": {},
   "outputs": [
    {
     "data": {
      "text/plain": [
       "array([[4., 1.],\n",
       "       [1., 1.]])"
      ]
     },
     "execution_count": 20,
     "metadata": {},
     "output_type": "execute_result"
    }
   ],
   "source": [
    "U@np.diag(e)@np.linalg.inv(U)"
   ]
  },
  {
   "cell_type": "markdown",
   "metadata": {},
   "source": [
    "Next, let us take $\\mathbf{V}$ of the SVD decompositoin and show the following equation is valid.\n",
    "\n",
    "$$\\mathbf{A} = \\mathbf{V} \\mathbf{\\Lambda} \\mathbf{V}^{-1}$$\n"
   ]
  },
  {
   "cell_type": "code",
   "execution_count": 21,
   "metadata": {},
   "outputs": [
    {
     "data": {
      "text/plain": [
       "array([[4., 1.],\n",
       "       [1., 1.]])"
      ]
     },
     "execution_count": 21,
     "metadata": {},
     "output_type": "execute_result"
    }
   ],
   "source": [
    "V@np.diag(e)@np.linalg.inv(V)"
   ]
  },
  {
   "cell_type": "markdown",
   "metadata": {},
   "source": [
    "Hence, for a covariance matrix, which is a symmetric and positive definite matrix, we can use SVD decomposition to replace the Eigen decomposition:\n",
    "\n",
    "* Both $\\mathbf{U}$ from SVD and $\\mathbf{V}$ from Eigen decomposition are the Eigen-vector matrix\n",
    "* Both $\\text{diag}(\\mathbf{\\Sigma})$ from SVD and $\\text{diag}(\\mathbf{\\Lambda})$ from Eigen decomposiion are the Eigen values."
   ]
  },
  {
   "cell_type": "markdown",
   "metadata": {},
   "source": [
    "## References\n",
    "\n",
    "[A NOTE ON THE RELATIONSHIP BETWEEN PCA AND SVD by Bastian Rieck](https://bastian.rieck.me/research/Note_PCA_SVD.pdf)"
   ]
  }
 ],
 "metadata": {
  "kernelspec": {
   "display_name": "ipykernel 3.12.4",
   "language": "python",
   "name": "py.3.12.4"
  },
  "language_info": {
   "codemirror_mode": {
    "name": "ipython",
    "version": 3
   },
   "file_extension": ".py",
   "mimetype": "text/x-python",
   "name": "python",
   "nbconvert_exporter": "python",
   "pygments_lexer": "ipython3",
   "version": "3.12.3"
  }
 },
 "nbformat": 4,
 "nbformat_minor": 4
}
